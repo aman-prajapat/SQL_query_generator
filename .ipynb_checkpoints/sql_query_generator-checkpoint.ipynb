{
 "cells": [
  {
   "cell_type": "code",
   "execution_count": 72,
   "id": "d0e2d93f-7ed7-4d02-85fd-d752a44ec201",
   "metadata": {},
   "outputs": [],
   "source": [
    "from groq import Groq"
   ]
  },
  {
   "cell_type": "code",
   "execution_count": 132,
   "id": "d8184150-3dd6-435d-b2eb-ddeb4656f0ee",
   "metadata": {},
   "outputs": [],
   "source": [
    "class GrokSQL:\n",
    "    def __init__(self, api_key):\n",
    "        self.api_key = api_key\n",
    "        client = Groq()\n",
    "        \n",
    "    def generate_sql(self, user_query, table_schema=None):\n",
    "        \"\"\"\n",
    "        Generate an SQL query from a user request.\n",
    "        :param user_query: The request in plain English, e.g., \"Get the total sales for each month.\"\n",
    "        :param table_schema: (Optional) Schema of the table to provide context.\n",
    "        :return: SQL query as a string.\n",
    "        \"\"\" \n",
    "        \n",
    "        prompt = f\"Generate an SQL query only (without explanation) and return string contains only query for: {user_query} \"\n",
    "        \n",
    "        if table_schema:\n",
    "            prompt += f\"\\nTable Schema: {table_schema}\"\n",
    "\n",
    "        completion = client.chat.completions.create(\n",
    "                model=\"llama-3.3-70b-versatile\",\n",
    "                messages=[\n",
    "                    {\n",
    "                        \"role\": \"user\",\n",
    "                        \"content\": prompt\n",
    "                    }\n",
    "                ],\n",
    "                temperature=1,\n",
    "                top_p=1,\n",
    "                stream=True,\n",
    "                stop=None,\n",
    "        )\n",
    "\n",
    "        a = ''\n",
    "        for chunk in completion:\n",
    "            content = chunk.choices[0].delta.content  \n",
    "            if content is not None:  \n",
    "                a += content \n",
    "        return a.removeprefix('```sql').removesuffix('```').replace('\\n',' ').strip()\n",
    "    "
   ]
  },
  {
   "cell_type": "code",
   "execution_count": 136,
   "id": "5e0618cd-ba74-4b2f-a6f2-14ba2023d354",
   "metadata": {},
   "outputs": [],
   "source": [
    "api_key = \"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\" \"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\"   # Replace with actual API key\n",
    "sql_generator = GrokSQL(api_key)\n",
    "\n",
    "# Example user query\n",
    "user_query = \"write a query for showing all columns from table empTab\"\n",
    "# user_query = \"select all the car whose color is red and also are type B and sell after 2025\"\n",
    "\n",
    "# Example schema (optional)\n",
    "table_schema = \"\"\"\n",
    "Tables:\n",
    "    Car(id, name,color, type,sellDate))\n",
    "\"\"\"\n",
    "\n",
    "# Generate SQL\n",
    "sql_query = sql_generator.generate_sql(user_query, table_schema)\n",
    "a = sql_query"
   ]
  },
  {
   "cell_type": "markdown",
   "id": "cd72d1b4-b05c-4689-b709-0e85acdc3e02",
   "metadata": {
    "scrolled": true
   },
   "source": [
    "SELECT COUNT(DISTINCT customer_id)\n",
    "FROM Orders\n",
    "WHERE order_date >= DATE_SUB(CURDATE(), INTERVAL 6 MONTH);"
   ]
  },
  {
   "cell_type": "code",
   "execution_count": 137,
   "id": "c2525929-2d68-420b-9012-b2a4b14ca969",
   "metadata": {},
   "outputs": [
    {
     "data": {
      "text/plain": [
       "'SELECT * FROM Car;'"
      ]
     },
     "execution_count": 137,
     "metadata": {},
     "output_type": "execute_result"
    }
   ],
   "source": [
    "a"
   ]
  },
  {
   "cell_type": "code",
   "execution_count": 102,
   "id": "2cbc1b5c-9b35-49c6-ae8f-5cdcc20b2d93",
   "metadata": {},
   "outputs": [
    {
     "name": "stdout",
     "output_type": "stream",
     "text": [
      "SELECT * \n",
      "FROM Car \n",
      "WHERE color = 'red' \n",
      "AND type = 'B' \n",
      "AND sellDate > '2025-01-01';\n"
     ]
    }
   ],
   "source": [
    "print(a)"
   ]
  },
  {
   "cell_type": "code",
   "execution_count": 139,
   "id": "1c0d130f-bbf6-40bd-9a94-8ddc6a871c06",
   "metadata": {},
   "outputs": [],
   "source": [
    "queries = [\n",
    "    # Basic Queries\n",
    "    \"Get all customer details.\",\n",
    "    \"Retrieve all employees from the database.\",\n",
    "    \"Show all products available in the inventory.\",\n",
    "    \"List all orders placed today.\",\n",
    "    \"Find all students enrolled in the school.\",\n",
    "\n",
    "    # Filtering (WHERE Clause)\n",
    "    \"Find all employees who work in the IT department.\",\n",
    "    \"Show all customers from New York.\",\n",
    "    \"Get a list of students who scored above 90% in Math.\",\n",
    "    \"Retrieve all transactions greater than $500.\",\n",
    "    \"Find orders placed between January and March 2024.\",\n",
    "\n",
    "    # Sorting (ORDER BY)\n",
    "    \"Show the top 10 highest-paid employees.\",\n",
    "    \"List products sorted by their price in descending order.\",\n",
    "    \"Get the latest 5 orders placed by customers.\",\n",
    "    \"Show employees sorted alphabetically by their last name.\",\n",
    "    \"Display students sorted by their total marks.\",\n",
    "\n",
    "    # Counting (COUNT)\n",
    "    \"Count the number of employees in each department.\",\n",
    "    \"Find the total number of registered users.\",\n",
    "    \"Get the number of products available in stock.\",\n",
    "    \"Count how many orders were placed in the last 7 days.\",\n",
    "    \"Find the number of complaints received this month.\",\n",
    "\n",
    "    # Grouping (GROUP BY)\n",
    "    \"Get the total revenue generated by each product category.\",\n",
    "    \"Count the number of students in each grade.\",\n",
    "    \"Find the number of orders placed by each customer.\",\n",
    "    \"Show the total sales per region.\",\n",
    "    \"Display the number of employees in each job position.\",\n",
    "\n",
    "    # Joining Tables (JOIN)\n",
    "    \"Get the names of customers along with their order details.\",\n",
    "    \"Retrieve employee names and their respective department names.\",\n",
    "    \"Show student names along with their course details.\",\n",
    "    \"List all orders with their corresponding payment details.\",\n",
    "    \"Find all authors and their published books.\",\n",
    "\n",
    "    # Date-Based Queries\n",
    "    \"Find all users who registered in the last 30 days.\",\n",
    "    \"Show orders placed in the last week.\",\n",
    "    \"Get the attendance records for the current month.\",\n",
    "    \"List transactions that happened yesterday.\",\n",
    "    \"Find employees who joined the company in 2023.\",\n",
    "\n",
    "    # Search (LIKE)\n",
    "    \"Find all products with 'phone' in their name.\",\n",
    "    \"Get a list of customers whose names start with 'A'.\",\n",
    "    \"Search for books with 'Data Science' in the title.\",\n",
    "    \"Retrieve employee emails that contain 'company.com'.\",\n",
    "    \"Show orders with special instructions containing 'fragile'.\",\n",
    "\n",
    "    # Range Queries (BETWEEN)\n",
    "    \"Get all orders with an amount between $1000 and $5000.\",\n",
    "    \"Find students who scored between 75 and 90 marks.\",\n",
    "    \"Show employees whose salaries are between $50,000 and $80,000.\",\n",
    "    \"Retrieve sales data for the period 2020 to 2023.\",\n",
    "    \"Find all customers aged between 25 and 40.\",\n",
    "\n",
    "    # Updating Data (UPDATE)\n",
    "    \"Update the salary of employees in the IT department by 10%.\",\n",
    "    \"Mark all orders shipped if the delivery date is passed.\",\n",
    "    \"Change the status of inactive users to ‘suspended’.\",\n",
    "    \"Update all product prices with a 5% discount.\",\n",
    "    \"Set all students’ grades to 'Pass' if their marks are above 40.\",\n",
    "\n",
    "    # Deleting Data (DELETE)\n",
    "    \"Delete all inactive users who haven’t logged in for a year.\",\n",
    "    \"Remove employees who resigned last year.\",\n",
    "    \"Delete all expired promotional coupons.\",\n",
    "    \"Remove products that are out of stock for more than 6 months.\",\n",
    "    \"Delete all spam comments from the database.\"\n",
    "]\n"
   ]
  },
  {
   "cell_type": "code",
   "execution_count": 141,
   "id": "b3626109-dbe7-4165-b26c-a56095f4cbd4",
   "metadata": {},
   "outputs": [
    {
     "name": "stdout",
     "output_type": "stream",
     "text": [
      "SELECT * FROM Customers;\n",
      "SELECT * FROM employees;\n",
      "SELECT * FROM products WHERE quantity > 0;\n",
      "SELECT *  FROM orders  WHERE DATE(order_date) = DATE(NOW());\n",
      "SELECT * FROM students;\n",
      "SELECT *  FROM employees  WHERE department = 'IT';\n",
      "SELECT *  FROM customers  WHERE city = 'New York';\n",
      "SELECT student_name  FROM student_scores  WHERE math_score > 90;\n",
      "SELECT * FROM transactions WHERE amount > 500;\n",
      "SELECT * FROM orders WHERE EXTRACT(MONTH FROM order_date) BETWEEN 1 AND 3 AND EXTRACT(YEAR FROM order_date) = 2024;\n",
      "SELECT      employee_name,      salary  FROM      employees  ORDER BY      salary DESC  LIMIT 10;\n",
      "SELECT * FROM products ORDER BY price DESC;\n",
      "SELECT *  FROM orders  ORDER BY order_date DESC  LIMIT 5;\n",
      "SELECT * FROM employees ORDER BY last_name ASC;\n",
      "SELECT *  FROM students  ORDER BY total_marks DESC;\n",
      "SELECT department, COUNT(employee_id)  FROM employees  GROUP BY department;\n",
      "SELECT COUNT(*) FROM users;\n",
      "SELECT COUNT(*)  FROM products  WHERE stock_quantity > 0;\n",
      "SELECT COUNT(*)  FROM orders  WHERE order_date >= NOW() - INTERVAL 7 DAY;\n",
      "SELECT COUNT(*)  FROM complaints  WHERE DATE_TRUNC('month', complaint_date) = DATE_TRUNC('month', CURRENT_DATE);\n",
      "SELECT      pc.category_name,      SUM(oi.unit_price * oi.quantity) AS total_revenue FROM      product_categories pc JOIN      products p ON pc.category_id = p.category_id JOIN      order_items oi ON p.product_id = oi.product_id GROUP BY      pc.category_name ORDER BY      total_revenue DESC;\n",
      "SELECT grade, COUNT(*) as number_of_students  FROM students  GROUP BY grade;\n",
      "SELECT customer_id, COUNT(*) as number_of_orders  FROM orders  GROUP BY customer_id;\n",
      "SELECT region, SUM(sales) AS total_sales FROM sales_table GROUP BY region;\n",
      "SELECT job, COUNT(*)  FROM employees  GROUP BY job;\n",
      "SELECT c.customer_name, o.order_id, o.order_date, o.order_total FROM customers c JOIN orders o ON c.customer_id = o.customer_id;\n",
      "SELECT e.employee_name, d.department_name  FROM employees e  JOIN departments d  ON e.department_id = d.department_id;\n",
      "SELECT s.student_name, c.course_name, c.course_duration  FROM students s  INNER JOIN course_enrollments ce ON s.student_id = ce.student_id  INNER JOIN courses c ON ce.course_id = c.course_id;\n",
      "SELECT o.*, p.* FROM orders o JOIN payments p ON o.order_id = p.order_id;\n",
      "SELECT a.name, b.title  FROM authors a  JOIN books b ON a.id = b.author_id;\n",
      "SELECT *  FROM users  WHERE registration_date >= NOW() - INTERVAL '30 days';\n",
      "SELECT *  FROM orders  WHERE order_date >= NOW() - INTERVAL '7 day';\n",
      "SELECT *  FROM attendance  WHERE EXTRACT(MONTH FROM attendance_date) = EXTRACT(MONTH FROM CURRENT_DATE)  AND EXTRACT(YEAR FROM attendance_date) = EXTRACT(YEAR FROM CURRENT_DATE);\n",
      "SELECT *  FROM transactions  WHERE DATE(transaction_date) = DATE(NOW() - INTERVAL 1 DAY);\n",
      "SELECT *  FROM employees  WHERE EXTRACT(YEAR FROM join_date) = 2023;\n",
      "SELECT *  FROM products  WHERE name LIKE '%phone%';\n",
      "SELECT * FROM customers WHERE name LIKE 'A%';\n",
      "SELECT * FROM books WHERE title LIKE '%Data Science%';\n",
      "SELECT email  FROM employees  WHERE email LIKE '%@company.com';\n",
      "SELECT *  FROM orders  WHERE special_instructions LIKE '%fragile%';\n",
      "SELECT *  FROM orders  WHERE amount BETWEEN 1000 AND 5000;\n",
      "SELECT *  FROM students  WHERE marks BETWEEN 75 AND 90;\n",
      "SELECT *  FROM employees  WHERE salary BETWEEN 50000 AND 80000;\n",
      "SELECT * FROM sales WHERE sale_date BETWEEN '2020-01-01' AND '2023-12-31';\n",
      "SELECT *  FROM customers  WHERE age BETWEEN 25 AND 40;\n",
      "UPDATE Employees  SET Salary = Salary * 1.10  WHERE Department = 'IT';\n",
      "UPDATE orders  SET status = 'shipped'  WHERE delivery_date < CURRENT_DATE;\n",
      "UPDATE users SET status = 'suspended' WHERE status = 'inactive';\n",
      "UPDATE products SET price = price * 0.95;\n",
      "UPDATE students  SET grade = 'Pass'  WHERE marks > 40;\n",
      "DELETE FROM users  WHERE last_login < (NOW() - INTERVAL 1 YEAR) AND is_active = FALSE;\n",
      "DELETE FROM employees  WHERE resignation_date BETWEEN '2023-01-01' AND '2023-12-31';\n",
      "DELETE FROM promotional_coupons  WHERE expiration_date < CURRENT_DATE;\n",
      "DELETE FROM products  WHERE stock_quantity = 0 AND last_stock_update < NOW() - INTERVAL 6 MONTH;\n",
      "DELETE FROM comments WHERE comment_type = 'spam';\n"
     ]
    }
   ],
   "source": [
    "for user_query in queries:\n",
    "    sql_query = sql_generator.generate_sql(user_query )\n",
    "    print(sql_query)"
   ]
  },
  {
   "cell_type": "code",
   "execution_count": 142,
   "id": "76c1413e-d624-40c6-8846-28a368858376",
   "metadata": {},
   "outputs": [],
   "source": [
    "import pandas as pd\n",
    "\n",
    "df = pd.DataFrame(columns=[\"user_query\", \"sql_query\"])\n",
    "\n",
    "# Assuming `sql_generator.generate_sql(query)` is the function that generates SQL queries\n",
    "for user_query in queries:\n",
    "    sql_query = sql_generator.generate_sql(user_query)  # Generate SQL query\n",
    "    df = pd.concat([df, pd.DataFrame({\"user_query\": [user_query], \"sql_query\": [sql_query]})], ignore_index=True)"
   ]
  },
  {
   "cell_type": "code",
   "execution_count": 152,
   "id": "e904adcc-81eb-478d-88cd-f635651321f9",
   "metadata": {},
   "outputs": [],
   "source": [
    "df.to_csv('test.csv')"
   ]
  },
  {
   "cell_type": "code",
   "execution_count": null,
   "id": "8fe21d0b-c370-4dcc-ad3c-29f5b29785fb",
   "metadata": {},
   "outputs": [],
   "source": []
  }
 ],
 "metadata": {
  "kernelspec": {
   "display_name": "Python 3 (ipykernel)",
   "language": "python",
   "name": "python3"
  },
  "language_info": {
   "codemirror_mode": {
    "name": "ipython",
    "version": 3
   },
   "file_extension": ".py",
   "mimetype": "text/x-python",
   "name": "python",
   "nbconvert_exporter": "python",
   "pygments_lexer": "ipython3",
   "version": "3.12.4"
  }
 },
 "nbformat": 4,
 "nbformat_minor": 5
}
