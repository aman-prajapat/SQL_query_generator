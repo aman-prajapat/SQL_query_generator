{
 "cells": [
  {
   "cell_type": "code",
   "execution_count": 1,
   "id": "d0e2d93f-7ed7-4d02-85fd-d752a44ec201",
   "metadata": {},
   "outputs": [],
   "source": [
    "from groq import Groq\n",
    "import pandas as pd"
   ]
  },
  {
   "cell_type": "markdown",
   "id": "98a60d72-220d-4703-ae2c-5105296079ba",
   "metadata": {
    "jp-MarkdownHeadingCollapsed": true
   },
   "source": [
    "completion.choices[0].message.content\n",
    "\n",
    "for chunk in completion:\n",
    "\n",
    "        #     content = chunk.choices[0].delta.content  \n",
    "        #     if content is not None:  \n",
    "        #         a += content "
   ]
  },
  {
   "cell_type": "code",
   "execution_count": 2,
   "id": "975c94f2-7c33-41ba-9ebe-183faec4903b",
   "metadata": {},
   "outputs": [
    {
     "name": "stdout",
     "output_type": "stream",
     "text": [
      "Your API key is: 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\n"
     ]
    }
   ],
   "source": [
    "import os\n",
    "from dotenv import load_dotenv\n",
    "\n",
    "# Load environment variables from .env file\n",
    "load_dotenv()\n",
    "\n",
    "# Get the API key\n",
    "api_key = os.getenv(\"API_KEY\")\n",
    "\n",
    "print(f\"Your API key is: {api_key}\")  # For debugging, remove this later\n"
   ]
  },
  {
   "cell_type": "code",
   "execution_count": 3,
   "id": "d8184150-3dd6-435d-b2eb-ddeb4656f0ee",
   "metadata": {},
   "outputs": [],
   "source": [
    "class GrokSQL:\n",
    "    def __init__(self, api_key):\n",
    "        self.api_key = api_key\n",
    "        \n",
    "        \n",
    "    def generate_sql(self, user_query, table_schema=None):\n",
    "        \"\"\"\n",
    "        Generate an SQL query from a user request.\n",
    "        :param user_query: The request in plain English, e.g., \"Get the total sales for each month.\"\n",
    "        :param table_schema: (Optional) Schema of the table to provide context.\n",
    "        :return: SQL query as a string.\n",
    "        \"\"\" \n",
    "        client = Groq()\n",
    "        prompt = f\"Generate an SQL query only (without explanation) and return string contains only query for: {user_query} \"\n",
    "        \n",
    "        if table_schema:\n",
    "            prompt += f\"\\nTable Schema: {table_schema}\"\n",
    "\n",
    "        completion = client.chat.completions.create(\n",
    "                model = \"llama-3.3-70b-versatile\",\n",
    "                messages = [\n",
    "                    {\n",
    "                        \"role\": \"user\",\n",
    "                        \"content\": prompt\n",
    "                    }\n",
    "                ],\n",
    "                temperature=0,\n",
    "                top_p=0.9,\n",
    "                stream=False,\n",
    "                stop=None,\n",
    "        )\n",
    "\n",
    "        \n",
    "        return completion.choices[0].message.content.removeprefix('```sql').removesuffix('```').replace('\\n',' ').strip()\n",
    "    "
   ]
  },
  {
   "cell_type": "code",
   "execution_count": 4,
   "id": "5e0618cd-ba74-4b2f-a6f2-14ba2023d354",
   "metadata": {},
   "outputs": [],
   "source": [
    "# api_key = \"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\" \n",
    "sql_generator = GrokSQL(api_key)\n",
    "\n",
    "user_query = \"write a query for showing all columns from table empTab\"\n",
    "# user_query = \"select all the car whose color is red and also are type B and sell after 2025\"\n",
    "\n",
    "table_schema = \"\"\"\n",
    "Tables:\n",
    "    Car(id, name,color, type,sellDate))\n",
    "\"\"\"\n",
    "\n",
    "# Generate SQL\n",
    "sql_query = sql_generator.generate_sql(user_query, table_schema)\n",
    "a = sql_query"
   ]
  },
  {
   "cell_type": "markdown",
   "id": "cd72d1b4-b05c-4689-b709-0e85acdc3e02",
   "metadata": {
    "scrolled": true
   },
   "source": [
    "SELECT COUNT(DISTINCT customer_id)\n",
    "FROM Orders\n",
    "WHERE order_date >= DATE_SUB(CURDATE(), INTERVAL 6 MONTH);"
   ]
  },
  {
   "cell_type": "code",
   "execution_count": 5,
   "id": "c2525929-2d68-420b-9012-b2a4b14ca969",
   "metadata": {},
   "outputs": [
    {
     "data": {
      "text/plain": [
       "'SELECT * FROM Car;'"
      ]
     },
     "execution_count": 5,
     "metadata": {},
     "output_type": "execute_result"
    }
   ],
   "source": [
    "a"
   ]
  },
  {
   "cell_type": "code",
   "execution_count": 33,
   "id": "2cbc1b5c-9b35-49c6-ae8f-5cdcc20b2d93",
   "metadata": {},
   "outputs": [
    {
     "name": "stdout",
     "output_type": "stream",
     "text": [
      "SELECT * FROM Car;\n"
     ]
    }
   ],
   "source": [
    "print(a)"
   ]
  },
  {
   "cell_type": "code",
   "execution_count": 139,
   "id": "1c0d130f-bbf6-40bd-9a94-8ddc6a871c06",
   "metadata": {},
   "outputs": [],
   "source": [
    "queries = [\n",
    "    # Basic Queries\n",
    "    \"Get all customer details.\",\n",
    "    \"Retrieve all employees from the database.\",\n",
    "    \"Show all products available in the inventory.\",\n",
    "    \"List all orders placed today.\",\n",
    "    \"Find all students enrolled in the school.\",\n",
    "\n",
    "    # Filtering (WHERE Clause)\n",
    "    \"Find all employees who work in the IT department.\",\n",
    "    \"Show all customers from New York.\",\n",
    "    \"Get a list of students who scored above 90% in Math.\",\n",
    "    \"Retrieve all transactions greater than $500.\",\n",
    "    \"Find orders placed between January and March 2024.\",\n",
    "\n",
    "    # Sorting (ORDER BY)\n",
    "    \"Show the top 10 highest-paid employees.\",\n",
    "    \"List products sorted by their price in descending order.\",\n",
    "    \"Get the latest 5 orders placed by customers.\",\n",
    "    \"Show employees sorted alphabetically by their last name.\",\n",
    "    \"Display students sorted by their total marks.\",\n",
    "\n",
    "    # Counting (COUNT)\n",
    "    \"Count the number of employees in each department.\",\n",
    "    \"Find the total number of registered users.\",\n",
    "    \"Get the number of products available in stock.\",\n",
    "    \"Count how many orders were placed in the last 7 days.\",\n",
    "    \"Find the number of complaints received this month.\",\n",
    "\n",
    "    # Grouping (GROUP BY)\n",
    "    \"Get the total revenue generated by each product category.\",\n",
    "    \"Count the number of students in each grade.\",\n",
    "    \"Find the number of orders placed by each customer.\",\n",
    "    \"Show the total sales per region.\",\n",
    "    \"Display the number of employees in each job position.\",\n",
    "\n",
    "    # Joining Tables (JOIN)\n",
    "    \"Get the names of customers along with their order details.\",\n",
    "    \"Retrieve employee names and their respective department names.\",\n",
    "    \"Show student names along with their course details.\",\n",
    "    \"List all orders with their corresponding payment details.\",\n",
    "    \"Find all authors and their published books.\",\n",
    "\n",
    "    # Date-Based Queries\n",
    "    \"Find all users who registered in the last 30 days.\",\n",
    "    \"Show orders placed in the last week.\",\n",
    "    \"Get the attendance records for the current month.\",\n",
    "    \"List transactions that happened yesterday.\",\n",
    "    \"Find employees who joined the company in 2023.\",\n",
    "\n",
    "    # Search (LIKE)\n",
    "    \"Find all products with 'phone' in their name.\",\n",
    "    \"Get a list of customers whose names start with 'A'.\",\n",
    "    \"Search for books with 'Data Science' in the title.\",\n",
    "    \"Retrieve employee emails that contain 'company.com'.\",\n",
    "    \"Show orders with special instructions containing 'fragile'.\",\n",
    "\n",
    "    # Range Queries (BETWEEN)\n",
    "    \"Get all orders with an amount between $1000 and $5000.\",\n",
    "    \"Find students who scored between 75 and 90 marks.\",\n",
    "    \"Show employees whose salaries are between $50,000 and $80,000.\",\n",
    "    \"Retrieve sales data for the period 2020 to 2023.\",\n",
    "    \"Find all customers aged between 25 and 40.\",\n",
    "\n",
    "    # Updating Data (UPDATE)\n",
    "    \"Update the salary of employees in the IT department by 10%.\",\n",
    "    \"Mark all orders shipped if the delivery date is passed.\",\n",
    "    \"Change the status of inactive users to ‘suspended’.\",\n",
    "    \"Update all product prices with a 5% discount.\",\n",
    "    \"Set all students’ grades to 'Pass' if their marks are above 40.\",\n",
    "\n",
    "    # Deleting Data (DELETE)\n",
    "    \"Delete all inactive users who haven’t logged in for a year.\",\n",
    "    \"Remove employees who resigned last year.\",\n",
    "    \"Delete all expired promotional coupons.\",\n",
    "    \"Remove products that are out of stock for more than 6 months.\",\n",
    "    \"Delete all spam comments from the database.\"\n",
    "]\n"
   ]
  },
  {
   "cell_type": "code",
   "execution_count": 142,
   "id": "76c1413e-d624-40c6-8846-28a368858376",
   "metadata": {},
   "outputs": [],
   "source": [
    "import pandas as pd\n",
    "\n",
    "df = pd.DataFrame(columns=[\"user_query\", \"sql_query\"])\n",
    "for user_query in queries:\n",
    "    sql_query = sql_generator.generate_sql(user_query)  # Generate SQL query\n",
    "    df = pd.concat([df, pd.DataFrame({\"user_query\": [user_query], \"sql_query\": [sql_query]})], ignore_index=True)"
   ]
  },
  {
   "cell_type": "code",
   "execution_count": 152,
   "id": "e904adcc-81eb-478d-88cd-f635651321f9",
   "metadata": {},
   "outputs": [],
   "source": [
    "df.to_csv('test.csv')"
   ]
  },
  {
   "cell_type": "code",
   "execution_count": 34,
   "id": "8fe21d0b-c370-4dcc-ad3c-29f5b29785fb",
   "metadata": {},
   "outputs": [],
   "source": [
    "test_cases = [\n",
    "    {\n",
    "        \"user_query\": \"Get all customer details.\",\n",
    "        \"table_schema\": \"customers (id INT, name TEXT, email TEXT, phone TEXT, address TEXT)\",\n",
    "        \"expected_sql\": \"SELECT * FROM customers;\"\n",
    "    },\n",
    "    {\n",
    "        \"user_query\": \"Retrieve all employees from the database.\",\n",
    "        \"table_schema\": \"employees (id INT, name TEXT, department TEXT, salary FLOAT, joining_date DATE)\",\n",
    "        \"expected_sql\": \"SELECT * FROM employees;\"\n",
    "    },\n",
    "    {\n",
    "        \"user_query\": \"Show all products available in the inventory.\",\n",
    "        \"table_schema\": \"products (id INT, name TEXT, price FLOAT, stock INT, category TEXT)\",\n",
    "        \"expected_sql\": \"SELECT * FROM products WHERE stock > 0;\"\n",
    "    },\n",
    "    {\n",
    "        \"user_query\": \"List all orders placed today.\",\n",
    "        \"table_schema\": \"orders (id INT, customer_id INT, total_amount FLOAT, order_date DATE)\",\n",
    "        \"expected_sql\": \"SELECT * FROM orders WHERE order_date = CURRENT_DATE;\"\n",
    "    },\n",
    "    {\n",
    "        \"user_query\": \"Find all students enrolled in the school.\",\n",
    "        \"table_schema\": \"students (id INT, name TEXT, class TEXT, admission_date DATE)\",\n",
    "        \"expected_sql\": \"SELECT * FROM students;\"\n",
    "    },\n",
    "    {\n",
    "        \"user_query\": \"Find all employees who work in the IT department.\",\n",
    "        \"table_schema\": \"employees (id INT, name TEXT, department TEXT, salary FLOAT)\",\n",
    "        \"expected_sql\": \"SELECT * FROM employees WHERE department = 'IT';\"\n",
    "    },\n",
    "    {\n",
    "        \"user_query\": \"Get a list of students who scored above 90% in Math.\",\n",
    "        \"table_schema\": \"marks (student_id INT, subject TEXT, score INT)\",\n",
    "        \"expected_sql\": \"SELECT student_id FROM marks WHERE subject = 'Math' AND score > 90;\"\n",
    "    },\n",
    "    {\n",
    "        \"user_query\": \"Show the top 10 highest-paid employees.\",\n",
    "        \"table_schema\": \"employees (id INT, name TEXT, department TEXT, salary FLOAT)\",\n",
    "        \"expected_sql\": \"SELECT * FROM employees ORDER BY salary DESC LIMIT 10;\"\n",
    "    },\n",
    "    {\n",
    "        \"user_query\": \"Count the number of employees in each department.\",\n",
    "        \"table_schema\": \"employees (id INT, name TEXT, department TEXT)\",\n",
    "        \"expected_sql\": \"SELECT department, COUNT(*) FROM employees GROUP BY department;\"\n",
    "    },\n",
    "    {\n",
    "        \"user_query\": \"Retrieve employee names and their respective department names.\",\n",
    "        \"table_schema\": \"employees (id INT, name TEXT, department_id INT), departments (id INT, name TEXT)\",\n",
    "        \"expected_sql\": \"SELECT employees.name, departments.name FROM employees JOIN departments ON employees.department_id = departments.id;\"\n",
    "    },\n",
    "    {\n",
    "        \"user_query\": \"Find the total revenue generated by each product category.\",\n",
    "        \"table_schema\": \"orders (id INT, product_id INT, quantity INT, total_price FLOAT), products (id INT, name TEXT, category TEXT)\",\n",
    "        \"expected_sql\": \"SELECT products.category, SUM(orders.total_price) FROM orders JOIN products ON orders.product_id = products.id GROUP BY products.category;\"\n",
    "    },\n",
    "    {\n",
    "        \"user_query\": \"Find all users who registered in the last 30 days.\",\n",
    "        \"table_schema\": \"users (id INT, name TEXT, email TEXT, registration_date DATE)\",\n",
    "        \"expected_sql\": \"SELECT * FROM users WHERE registration_date >= CURRENT_DATE - INTERVAL '30 days';\"\n",
    "    },\n",
    "    {\n",
    "        \"user_query\": \"Search for books with 'Data Science' in the title.\",\n",
    "        \"table_schema\": \"books (id INT, title TEXT, author TEXT, published_year INT)\",\n",
    "        \"expected_sql\": \"SELECT * FROM books WHERE title LIKE '%Data Science%';\"\n",
    "    },\n",
    "    {\n",
    "        \"user_query\": \"Show all orders with a total amount between $1000 and $5000.\",\n",
    "        \"table_schema\": \"orders (id INT, customer_id INT, total_amount FLOAT, order_date DATE)\",\n",
    "        \"expected_sql\": \"SELECT * FROM orders WHERE total_amount BETWEEN 1000 AND 5000;\"\n",
    "    },\n",
    "    {\n",
    "        \"user_query\": \"Update the salary of employees in the IT department by 10%.\",\n",
    "        \"table_schema\": \"employees (id INT, name TEXT, department TEXT, salary FLOAT)\",\n",
    "        \"expected_sql\": \"UPDATE employees SET salary = salary * 1.10 WHERE department = 'IT';\"\n",
    "    },\n",
    "    {\n",
    "        \"user_query\": \"Delete all inactive users who haven’t logged in for a year.\",\n",
    "        \"table_schema\": \"users (id INT, name TEXT, last_login DATE)\",\n",
    "        \"expected_sql\": \"DELETE FROM users WHERE last_login < CURRENT_DATE - INTERVAL '1 year';\"\n",
    "    }\n",
    "]\n"
   ]
  },
  {
   "cell_type": "code",
   "execution_count": 37,
   "id": "3ca2f8d2-24e7-48c3-94ae-cf16c3b57805",
   "metadata": {},
   "outputs": [],
   "source": [
    "df = pd.DataFrame(columns=[\"user_query\", \"schema\", \"sql_query\", 'expected_sql'])\n",
    "for user_query in test_cases:\n",
    "        sql_query = sql_generator.generate_sql(user_query['user_query'],user_query['table_schema'])  # Generate SQL query\n",
    "        df = pd.concat([\n",
    "                        df, \n",
    "                        pd.DataFrame({\n",
    "                                          \"user_query\": [user_query['user_query']],\n",
    "                                          'schema' : [user_query['table_schema']], \n",
    "                                          \"sql_query\": [sql_query],\n",
    "                                          'expected_sql' : [user_query['expected_sql']]\n",
    "                                    })\n",
    "                        ], \n",
    "                        ignore_index=True\n",
    "                      )"
   ]
  },
  {
   "cell_type": "code",
   "execution_count": 40,
   "id": "dc352173-f78d-462e-9345-5ab55ade253b",
   "metadata": {},
   "outputs": [],
   "source": [
    "df.to_csv('test_with_schema.csv',index=False)"
   ]
  },
  {
   "cell_type": "code",
   "execution_count": null,
   "id": "c39026bd-0cd7-4378-b0e2-9e5f812340fe",
   "metadata": {},
   "outputs": [],
   "source": []
  }
 ],
 "metadata": {
  "kernelspec": {
   "display_name": "Python 3 (ipykernel)",
   "language": "python",
   "name": "python3"
  },
  "language_info": {
   "codemirror_mode": {
    "name": "ipython",
    "version": 3
   },
   "file_extension": ".py",
   "mimetype": "text/x-python",
   "name": "python",
   "nbconvert_exporter": "python",
   "pygments_lexer": "ipython3",
   "version": "3.12.4"
  }
 },
 "nbformat": 4,
 "nbformat_minor": 5
}
